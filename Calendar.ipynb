{
  "nbformat": 4,
  "nbformat_minor": 0,
  "metadata": {
    "colab": {
      "provenance": [],
      "authorship_tag": "ABX9TyMzsHFvKm7+riS9y5rG2SQy",
      "include_colab_link": true
    },
    "kernelspec": {
      "name": "python3",
      "display_name": "Python 3"
    },
    "language_info": {
      "name": "python"
    }
  },
  "cells": [
    {
      "cell_type": "markdown",
      "metadata": {
        "id": "view-in-github",
        "colab_type": "text"
      },
      "source": [
        "<a href=\"https://colab.research.google.com/github/realbluesnail/UNCC_DSBA6188/blob/main/Calendar.ipynb\" target=\"_parent\"><img src=\"https://colab.research.google.com/assets/colab-badge.svg\" alt=\"Open In Colab\"/></a>"
      ]
    },
    {
      "cell_type": "code",
      "execution_count": null,
      "metadata": {
        "id": "yfXvJ1T2uA35"
      },
      "outputs": [],
      "source": [
        "import numpy as np\n",
        "import pandas as pd"
      ]
    },
    {
      "cell_type": "code",
      "source": [
        "days_in_month = [31, 28, 31, 30, 31, 30, 31, 31, 30, 31, 30, 31]"
      ],
      "metadata": {
        "id": "8mh6tRQbuLju"
      },
      "execution_count": null,
      "outputs": []
    },
    {
      "cell_type": "code",
      "source": [
        "anchor_year = 1\n",
        "anchor_day_the_year = 1\n",
        "anchor_day_of_the_week = 1 # Saturday"
      ],
      "metadata": {
        "id": "QRzW59gVJkwD"
      },
      "execution_count": null,
      "outputs": []
    },
    {
      "cell_type": "code",
      "source": [
        "def get_day_of_week(yy, mm, dd):\n",
        "  num_y = yy - anchor_year\n",
        "  leap_days = num_y//4 - num_y//100 + num_y // 400\n",
        "  num_d = num_y * 365 + leap_days\n",
        "  for i in range(mm-1):\n",
        "    num_d += days_in_month[i]\n",
        "  #print(num_d, leap_days, num_y)\n",
        "  num_d += dd - 1\n",
        "  return (num_d + anchor_day_of_the_week) % 7"
      ],
      "metadata": {
        "id": "MaH01VdiKUdP"
      },
      "execution_count": null,
      "outputs": []
    },
    {
      "cell_type": "code",
      "source": [
        "get_day_of_week(2025,6,15)"
      ],
      "metadata": {
        "colab": {
          "base_uri": "https://localhost:8080/"
        },
        "id": "QTgQ7_FDMdIS",
        "outputId": "856a996a-d84a-4ccf-e9e8-90aa262eb243"
      },
      "execution_count": null,
      "outputs": [
        {
          "output_type": "execute_result",
          "data": {
            "text/plain": [
              "0"
            ]
          },
          "metadata": {},
          "execution_count": 5
        }
      ]
    },
    {
      "cell_type": "code",
      "source": [
        "# Print the calendar\n",
        "space = ' '\n",
        "def print_week(day_start, week_start, week_end):\n",
        "  print((week_start*3)*space, end = '')\n",
        "  day_num = day_start\n",
        "  for i in range(week_end - week_start + 1):\n",
        "    print(f'{day_num:2d}', end=' ')\n",
        "    day_num += 1\n",
        "  print('\\n')\n"
      ],
      "metadata": {
        "id": "LbTYgPwVQEJv"
      },
      "execution_count": null,
      "outputs": []
    },
    {
      "cell_type": "code",
      "source": [
        "print_week(1, 3, 6)"
      ],
      "metadata": {
        "colab": {
          "base_uri": "https://localhost:8080/"
        },
        "id": "POozd2aRDzyW",
        "outputId": "d079119c-0996-49c7-dc03-e1dc550541f6"
      },
      "execution_count": null,
      "outputs": [
        {
          "output_type": "stream",
          "name": "stdout",
          "text": [
            "          1  2  3  4 \n",
            "\n"
          ]
        }
      ]
    },
    {
      "cell_type": "code",
      "source": [
        "year = 2025\n",
        "month = 6\n",
        "\n",
        "week_start = get_day_of_week(year, month, 1)\n",
        "leap_day_offset = (year%4 == 0) - (year%100 == 0) + (year%400 == 0)\n",
        "num_days = days_in_month[month-1] + leap_day_offset\n",
        "\n",
        "\n",
        "print(' S  M  T  W  T  F  S')\n",
        "print('---------------------')\n",
        "\n",
        "\n",
        "day_idx = 1\n",
        "\n",
        "while day_idx <= num_days:\n",
        "  if day_idx + 6 - week_start < num_days:\n",
        "    week_end = 6\n",
        "  else:\n",
        "    week_end = num_days - day_idx - week_start\n",
        "  print_week(day_idx, week_start, week_end)\n",
        "  #print('\\n')\n",
        "  day_idx += week_end - week_start + 1\n",
        "  week_start = 0"
      ],
      "metadata": {
        "colab": {
          "base_uri": "https://localhost:8080/"
        },
        "id": "sFjc326TECWo",
        "outputId": "589a10fb-b947-4cea-ccf3-1adc17119486"
      },
      "execution_count": 75,
      "outputs": [
        {
          "output_type": "stream",
          "name": "stdout",
          "text": [
            " S  M  T  W  T  F  S\n",
            "---------------------\n",
            " 1  2  3  4  5  6  7 \n",
            "\n",
            " 8  9 10 11 12 13 14 \n",
            "\n",
            "15 16 17 18 19 20 21 \n",
            "\n",
            "22 23 24 25 26 27 28 \n",
            "\n",
            "29 30 \n",
            "\n"
          ]
        }
      ]
    }
  ]
}